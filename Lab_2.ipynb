{
 "cells": [
  {
   "cell_type": "code",
   "execution_count": 1,
   "id": "143f9ced",
   "metadata": {},
   "outputs": [
    {
     "name": "stdout",
     "output_type": "stream",
     "text": [
      "1\n"
     ]
    }
   ],
   "source": [
    "#Варіат завдання, номер в списку - 6\n",
    "N = (6 + 4 ) % 5 + 1\n",
    "print(N)"
   ]
  },
  {
   "cell_type": "code",
   "execution_count": 18,
   "id": "9eb50983",
   "metadata": {
    "scrolled": true
   },
   "outputs": [
    {
     "name": "stdout",
     "output_type": "stream",
     "text": [
      "   Id       Name  Year Gender  Count\n",
      "0   1       Mary  1880      F   7065\n",
      "1   2       Anna  1880      F   2604\n",
      "2   3       Emma  1880      F   2003\n",
      "3   4  Elizabeth  1880      F   1939\n",
      "4   5     Minnie  1880      F   1746\n",
      "5   6   Margaret  1880      F   1578\n",
      "6   7        Ida  1880      F   1472\n",
      "7   8      Alice  1880      F   1414\n"
     ]
    }
   ],
   "source": [
    "#Завдання 1\n",
    "#Виведіть перші 8 рядків набору даних.\n",
    "\n",
    "import pandas as pd\n",
    "\n",
    "def load_and_display_data(file_path, rows=8):\n",
    "    df = pd.read_csv(file_path)\n",
    "    print(df.head(rows))\n",
    "\n",
    "local_file_path = 'NationalNames.csv'\n",
    "load_and_display_data(local_file_path, rows=8)\n"
   ]
  },
  {
   "cell_type": "code",
   "execution_count": 4,
   "id": "3474d8d7",
   "metadata": {},
   "outputs": [
    {
     "name": "stdout",
     "output_type": "stream",
     "text": [
      "              Id     Name  Year Gender  Count\n",
      "1825425  1825426       Zo  2014      M      5\n",
      "1825426  1825427    Zyeir  2014      M      5\n",
      "1825427  1825428     Zyel  2014      M      5\n",
      "1825428  1825429   Zykeem  2014      M      5\n",
      "1825429  1825430   Zymeer  2014      M      5\n",
      "1825430  1825431  Zymiere  2014      M      5\n",
      "1825431  1825432    Zyran  2014      M      5\n",
      "1825432  1825433    Zyrin  2014      M      5\n"
     ]
    }
   ],
   "source": [
    "#Завдання 2\n",
    "#Вивести останні 8 рядків набору даних.\n",
    "import pandas as pd\n",
    "\n",
    "def load_and_display_data(file_path, rows=8):\n",
    "    df = pd.read_csv(file_path)\n",
    "    print(df.tail(rows))\n",
    "\n",
    "local_file_path = 'NationalNames.csv'\n",
    "load_and_display_data(local_file_path, rows=8)\n"
   ]
  },
  {
   "cell_type": "code",
   "execution_count": 5,
   "id": "9f8f043f",
   "metadata": {},
   "outputs": [
    {
     "name": "stdout",
     "output_type": "stream",
     "text": [
      "Имена столбцов:\n",
      "Index(['Id', 'Name', 'Year', 'Gender', 'Count'], dtype='object')\n"
     ]
    }
   ],
   "source": [
    "#Завдання 3\n",
    "#Отримайте імена стовпців набору даних\n",
    "import pandas as pd\n",
    "\n",
    "def get_column_names(file_path):\n",
    "    df = pd.read_csv(file_path)\n",
    "    column_names = df.columns\n",
    "\n",
    "    return column_names\n",
    "\n",
    "local_file_path = 'NationalNames.csv'\n",
    "columns = get_column_names(local_file_path)\n",
    "\n",
    "print(columns)\n"
   ]
  },
  {
   "cell_type": "code",
   "execution_count": 1,
   "id": "bff5b161",
   "metadata": {},
   "outputs": [
    {
     "name": "stdout",
     "output_type": "stream",
     "text": [
      "93889\n"
     ]
    }
   ],
   "source": [
    "##Завдання 5\n",
    "#Знайдіть кількість унікальних імен у наборі даних\n",
    "import pandas as pd\n",
    "\n",
    "def count_unique_names(file_path):\n",
    "    df = pd.read_csv(file_path)\n",
    "    unique_names_count = df['Name'].nunique()\n",
    "\n",
    "    return unique_names_count\n",
    "\n",
    "local_file_path = 'NationalNames.csv'\n",
    "unique_names_count = count_unique_names(local_file_path)\n",
    "\n",
    "print(unique_names_count)\n"
   ]
  },
  {
   "cell_type": "code",
   "execution_count": 30,
   "id": "3508fcdd",
   "metadata": {},
   "outputs": [
    {
     "name": "stdout",
     "output_type": "stream",
     "text": [
      "Кількість унікальних імен в кожному році:\n",
      "Year\n",
      "1880     1889\n",
      "1881     1830\n",
      "1882     2012\n",
      "1883     1962\n",
      "1884     2158\n",
      "        ...  \n",
      "2010    31603\n",
      "2011    31418\n",
      "2012    31236\n",
      "2013    30774\n",
      "2014    30579\n",
      "Name: Name, Length: 135, dtype: int64\n"
     ]
    }
   ],
   "source": [
    "#Завдання 10\n",
    "#Підрахуйте кількість унікальних імен у кожному році\n",
    "import pandas as pd\n",
    "\n",
    "def count_unique_names_by_year(file_path):\n",
    "    df = pd.read_csv(file_path)\n",
    "    unique_names_by_year = df.groupby('Year')['Name'].nunique()\n",
    "\n",
    "    return unique_names_by_year\n",
    "\n",
    "local_file_path = 'NationalNames.csv'\n",
    "unique_names_by_year = count_unique_names_by_year(local_file_path)\n",
    "\n",
    "print(\"Кількість унікальних імен в кожному році:\")\n",
    "print(unique_names_by_year)\n"
   ]
  },
  {
   "cell_type": "code",
   "execution_count": 31,
   "id": "fc54bdca",
   "metadata": {},
   "outputs": [
    {
     "name": "stdout",
     "output_type": "stream",
     "text": [
      "Рік     Кількість\n",
      "2008   32488\n"
     ]
    }
   ],
   "source": [
    "#Завдання 11\n",
    "#Знайдіть рік із найбільшою кількістю унікальних імен.\n",
    "import pandas as pd\n",
    "\n",
    "def year_and_count_with_most_unique_names(file_path):\n",
    "    df = pd.read_csv(file_path)\n",
    "    unique_names_by_year = df.groupby('Year')['Name'].nunique()\n",
    "    most_names_year = unique_names_by_year.idxmax()\n",
    "\n",
    "    count_of_names = unique_names_by_year.loc[most_names_year]\n",
    "\n",
    "    return most_names_year, count_of_names\n",
    "\n",
    "local_file_path = 'NationalNames.csv'\n",
    "most_names_year, count_of_names = year_and_count_with_most_unique_names(local_file_path)\n",
    "\n",
    "print(\"Рік     Кількість\")\n",
    "print(f\"{most_names_year}   {count_of_names}\")\n"
   ]
  },
  {
   "cell_type": "code",
   "execution_count": 34,
   "id": "69da6b3a",
   "metadata": {},
   "outputs": [
    {
     "name": "stdout",
     "output_type": "stream",
     "text": [
      "Рік з найбільшою кількістю унікальних імен: 2008\n",
      "Найбільш популярне ім'я в цьому році: Jacob\n"
     ]
    }
   ],
   "source": [
    "#Завдання 12\n",
    "#Знайдіть найпопулярніше ім’я в році з найбільшою кількістю унікальних імен\n",
    "import pandas as pd\n",
    "\n",
    "def most_popular_name_in_year_with_most_unique_names(file_path):\n",
    "    df = pd.read_csv(file_path)\n",
    "    unique_names_by_year = df.groupby('Year')['Name'].nunique()\n",
    "    most_names_year = unique_names_by_year.idxmax()\n",
    "    data_for_most_names_year = df[df['Year'] == most_names_year]\n",
    "\n",
    "    most_popular_name = data_for_most_names_year.groupby('Name')['Count'].sum().idxmax()\n",
    "\n",
    "    return most_names_year, most_popular_name\n",
    "\n",
    "local_file_path = 'NationalNames.csv'\n",
    "most_names_year, most_popular_name = most_popular_name_in_year_with_most_unique_names(local_file_path)\n",
    "\n",
    "print(\"Рік з найбільшою кількістю унікальних імен:\", most_names_year)\n",
    "print(\"Найбільш популярне ім'я в цьому році:\", most_popular_name)\n"
   ]
  },
  {
   "cell_type": "code",
   "execution_count": 59,
   "id": "201173e4",
   "metadata": {},
   "outputs": [
    {
     "name": "stdout",
     "output_type": "stream",
     "text": [
      "['Id', 'Name', 'Year', 'Gender', 'Count']\n",
      "[1455557, 'Jacob', 2004, 'F', 171]\n"
     ]
    }
   ],
   "source": [
    "#Завдання 13\n",
    "#Знайдіть рік, коли ім’я “Jacob” було найпопулярнішим серед жіночих імен\n",
    "import pandas as pd\n",
    "\n",
    "def info_jacob_most_popular_among_females(file_path):\n",
    "    df = pd.read_csv(file_path)\n",
    "    jacob_female_data = df[(df['Name'] == 'Jacob') & (df['Gender'] == 'F')]\n",
    "    row_with_max_count = jacob_female_data.loc[jacob_female_data['Count'].idxmax()]\n",
    "\n",
    "    column_names = row_with_max_count.index.tolist()\n",
    "    row_values = row_with_max_count.values.tolist()\n",
    "\n",
    "    return column_names, row_values\n",
    "\n",
    "local_file_path = 'NationalNames.csv'\n",
    "column_names, row_values = info_jacob_most_popular_among_females(local_file_path)\n",
    "\n",
    "print(column_names)\n",
    "print(row_values)\n"
   ]
  },
  {
   "cell_type": "code",
   "execution_count": 60,
   "id": "6240918a",
   "metadata": {},
   "outputs": [
    {
     "name": "stdout",
     "output_type": "stream",
     "text": [
      "Рік с найбільшою кількістю гендерно нейтральних імен: 2014\n",
      "Кількість гендерно нейтральних вмен в цьому році: 2465\n"
     ]
    }
   ],
   "source": [
    "#Завдання 14\n",
    "#Знайти рік із найбільшою кількістю гендерно нейтральних імен (однакові чоловічі та жіночі імена)\n",
    "import pandas as pd\n",
    "\n",
    "def year_and_count_with_most_gender_neutral_names(file_path):\n",
    "    df = pd.read_csv(file_path)\n",
    "\n",
    "    unique_male_names_by_year = df[df['Gender'] == 'M'].groupby('Year')['Name'].unique()\n",
    "    unique_female_names_by_year = df[df['Gender'] == 'F'].groupby('Year')['Name'].unique()\n",
    "\n",
    "    gender_neutral_years = set(unique_male_names_by_year.index) & set(unique_female_names_by_year.index)\n",
    "    year_with_most_gender_neutral_names = max(gender_neutral_years)\n",
    "\n",
    "    gender_neutral_names = set(unique_male_names_by_year[year_with_most_gender_neutral_names]) & set(unique_female_names_by_year[year_with_most_gender_neutral_names])\n",
    "\n",
    "    count_of_gender_neutral_names = len(gender_neutral_names)\n",
    "\n",
    "    return year_with_most_gender_neutral_names, count_of_gender_neutral_names\n",
    "\n",
    "local_file_path = 'NationalNames.csv'\n",
    "year_with_most_gender_neutral_names, count_of_gender_neutral_names = year_and_count_with_most_gender_neutral_names(local_file_path)\n",
    "\n",
    "print(\"Рік с найбільшою кількістю гендерно нейтральних імен:\", year_with_most_gender_neutral_names)\n",
    "print(\"Кількість гендерно нейтральних вмен в цьому році:\", count_of_gender_neutral_names)\n"
   ]
  },
  {
   "cell_type": "code",
   "execution_count": 61,
   "id": "24507d08",
   "metadata": {},
   "outputs": [
    {
     "name": "stdout",
     "output_type": "stream",
     "text": [
      "Загальна кількість народжень за кожен рік:\n",
      "Year\n",
      "1880     201484\n",
      "1881     192699\n",
      "1882     221538\n",
      "1883     216950\n",
      "1884     243467\n",
      "         ...   \n",
      "2010    3686589\n",
      "2011    3646730\n",
      "2012    3643336\n",
      "2013    3626802\n",
      "2014    3670151\n",
      "Name: Count, Length: 135, dtype: int64\n"
     ]
    }
   ],
   "source": [
    "#Завдання 15\n",
    "#Знайдіть загальну кількість народжень за рік.\n",
    "import pandas as pd\n",
    "\n",
    "def total_births_by_year(file_path):\n",
    "    df = pd.read_csv(file_path)\n",
    "    total_births_by_year = df.groupby('Year')['Count'].sum()\n",
    "\n",
    "    return total_births_by_year\n",
    "\n",
    "local_file_path = 'NationalNames.csv'\n",
    "total_births_by_year_result = total_births_by_year(local_file_path)\n",
    "\n",
    "print(\"Загальна кількість народжень за кожен рік:\")\n",
    "print(total_births_by_year_result)\n"
   ]
  },
  {
   "cell_type": "code",
   "execution_count": 62,
   "id": "ce5d6ff9",
   "metadata": {},
   "outputs": [
    {
     "name": "stdout",
     "output_type": "stream",
     "text": [
      "Рік, коли народилося найбільше дітей: 1957\n"
     ]
    }
   ],
   "source": [
    "#Завдання 16\n",
    "#Знайдіть рік, коли народилося найбільше дітей\n",
    "import pandas as pd\n",
    "\n",
    "def year_with_most_births(file_path):\n",
    "    df = pd.read_csv(file_path)\n",
    "    total_births_by_year = df.groupby('Year')['Count'].sum()\n",
    "\n",
    "    year_with_most_births = total_births_by_year.idxmax()\n",
    "\n",
    "    return year_with_most_births\n",
    "\n",
    "local_file_path = 'NationalNames.csv'\n",
    "year_with_most_births_result = year_with_most_births(local_file_path)\n",
    "\n",
    "print(\"Рік, коли народилося найбільше дітей:\", year_with_most_births_result)\n"
   ]
  },
  {
   "cell_type": "code",
   "execution_count": 63,
   "id": "e8a8fad0",
   "metadata": {},
   "outputs": [
    {
     "name": "stdout",
     "output_type": "stream",
     "text": [
      "Кількість дівчаток та хлопчиків, які народились кожного року:\n",
      "Gender        F        M\n",
      "Year                    \n",
      "1880      90993   110491\n",
      "1881      91954   100745\n",
      "1882     107850   113688\n",
      "1883     112321   104629\n",
      "1884     129022   114445\n",
      "...         ...      ...\n",
      "2010    1772738  1913851\n",
      "2011    1753500  1893230\n",
      "2012    1753922  1889414\n",
      "2013    1745339  1881463\n",
      "2014    1768775  1901376\n",
      "\n",
      "[135 rows x 2 columns]\n"
     ]
    }
   ],
   "source": [
    "#Завдання 17\n",
    "#Знайдіть кількість дівчаток та хлопчиків, які народились кожного року\n",
    "import pandas as pd\n",
    "\n",
    "def births_by_gender_per_year(file_path):\n",
    "    df = pd.read_csv(file_path)\n",
    "    births_by_gender_per_year = df.groupby(['Year', 'Gender'])['Count'].sum().unstack()\n",
    "\n",
    "    return births_by_gender_per_year\n",
    "\n",
    "local_file_path = 'NationalNames.csv'\n",
    "births_by_gender_result = births_by_gender_per_year(local_file_path)\n",
    "\n",
    "print(\"Кількість дівчаток та хлопчиків, які народились кожного року:\")\n",
    "print(births_by_gender_result)\n"
   ]
  },
  {
   "cell_type": "code",
   "execution_count": 64,
   "id": "381943b6",
   "metadata": {},
   "outputs": [
    {
     "name": "stdout",
     "output_type": "stream",
     "text": [
      "Кількість років, коли народжувалося більше дівчаток, ніж хлопчиків: 54\n"
     ]
    }
   ],
   "source": [
    "#Завдання 18 \n",
    "#Підрахуйте кількість років, коли дівчаток народжувалось більше, ніж хлопчиків.\n",
    "import pandas as pd\n",
    "\n",
    "def years_with_more_girls_than_boys(file_path):\n",
    "    df = pd.read_csv(file_path)\n",
    "    births_by_gender_per_year = df.groupby(['Year', 'Gender'])['Count'].sum().unstack()\n",
    "    years_with_more_girls_than_boys = (births_by_gender_per_year['F'] > births_by_gender_per_year['M']).sum()\n",
    "\n",
    "    return years_with_more_girls_than_boys\n",
    "\n",
    "local_file_path = 'NationalNames.csv'\n",
    "years_with_more_girls_than_boys_result = years_with_more_girls_than_boys(local_file_path)\n",
    "\n",
    "print(\"Кількість років, коли народжувалося більше дівчаток, ніж хлопчиків:\", years_with_more_girls_than_boys_result)\n"
   ]
  },
  {
   "cell_type": "code",
   "execution_count": 65,
   "id": "97d99df5",
   "metadata": {},
   "outputs": [
    {
     "name": "stdout",
     "output_type": "stream",
     "text": [
      "Кількість разів, коли хлопчиків називали Barbara: 4139\n"
     ]
    }
   ],
   "source": [
    "#Завдання 21\n",
    "#Порахуйте, скільки разів хлопчиків називали Barbara\n",
    "import pandas as pd\n",
    "\n",
    "def count_of_boys_named_barbara(file_path):\n",
    "    df = pd.read_csv(file_path)\n",
    "    boys_named_barbara = df[(df['Name'] == 'Barbara') & (df['Gender'] == 'M')]\n",
    "    count_of_boys_named_barbara = boys_named_barbara['Count'].sum()\n",
    "\n",
    "    return count_of_boys_named_barbara\n",
    "\n",
    "local_file_path = 'NationalNames.csv'\n",
    "count_of_boys_named_barbara_result = count_of_boys_named_barbara(local_file_path)\n",
    "\n",
    "print(\"Кількість разів, коли хлопчиків називали Barbara:\", count_of_boys_named_barbara_result)\n"
   ]
  },
  {
   "cell_type": "code",
   "execution_count": 66,
   "id": "5a2450b7",
   "metadata": {},
   "outputs": [
    {
     "name": "stdout",
     "output_type": "stream",
     "text": [
      "Кількість років проводження спостережень: 135\n"
     ]
    }
   ],
   "source": [
    "#Завдання 22\n",
    "#Підрахуйте скільки років проводилось спостереження\n",
    "import pandas as pd\n",
    "\n",
    "def count_of_observation_years(file_path):\n",
    "    df = pd.read_csv(file_path)\n",
    "    observation_years_count = df['Year'].nunique()\n",
    "\n",
    "    return observation_years_count\n",
    "\n",
    "local_file_path = 'NationalNames.csv'\n",
    "observation_years_count_result = count_of_observation_years(local_file_path)\n",
    "\n",
    "print(\"Кількість років проводження спостережень:\", observation_years_count_result)\n"
   ]
  },
  {
   "cell_type": "code",
   "execution_count": 69,
   "id": "86f01b46",
   "metadata": {},
   "outputs": [
    {
     "data": {
      "image/png": "[encoded data removed]",
      "text/plain": [
       "<Figure size 1200x600 with 1 Axes>"
      ]
     },
     "metadata": {},
     "output_type": "display_data"
    }
   ],
   "source": [
    "#Завдання 26\n",
    "#Побудувати графіки розподілення кількості жіночих імен John та чоловічих імен Mary по роках.\n",
    "import pandas as pd\n",
    "import matplotlib.pyplot as plt\n",
    "\n",
    "def plot_name_distribution(file_path, name_female, name_male):\n",
    "    df = pd.read_csv(file_path)\n",
    "\n",
    "    female_name_data = df[(df['Name'] == name_female) & (df['Gender'] == 'F')]\n",
    "    female_name_distribution = female_name_data.groupby('Year')['Count'].sum()\n",
    "\n",
    "    male_name_data = df[(df['Name'] == name_male) & (df['Gender'] == 'M')]\n",
    "    male_name_distribution = male_name_data.groupby('Year')['Count'].sum()\n",
    "\n",
    "    plt.figure(figsize=(12, 6))\n",
    "    plt.plot(female_name_distribution.index, female_name_distribution, label=name_female)\n",
    "    plt.plot(male_name_distribution.index, male_name_distribution, label=name_male)\n",
    "\n",
    "    plt.title('Розподілення кількості імен по роках')\n",
    "    plt.xlabel('Рік')\n",
    "    plt.ylabel('Кількість імен')\n",
    "    plt.legend()\n",
    "    plt.grid(True)\n",
    "    \n",
    "    plt.show()\n",
    "\n",
    "local_file_path = 'NationalNames.csv'\n",
    "plot_name_distribution(local_file_path, 'John', 'Mary')\n"
   ]
  },
  {
   "cell_type": "code",
   "execution_count": null,
   "id": "6a3bbe63",
   "metadata": {},
   "outputs": [],
   "source": []
  }
 ],
 "metadata": {
  "kernelspec": {
   "display_name": "Python 3 (ipykernel)",
   "language": "python",
   "name": "python3"
  },
  "language_info": {
   "codemirror_mode": {
    "name": "ipython",
    "version": 3
   },
   "file_extension": ".py",
   "mimetype": "text/x-python",
   "name": "python",
   "nbconvert_exporter": "python",
   "pygments_lexer": "ipython3",
   "version": "3.11.5"
  }
 },
 "nbformat": 4,
 "nbformat_minor": 5
}
